{
  "nbformat": 4,
  "nbformat_minor": 0,
  "metadata": {
    "colab": {
      "provenance": [],
      "authorship_tag": "ABX9TyPcpkliTje8zUDkGOHKaiQ8",
      "include_colab_link": true
    },
    "kernelspec": {
      "name": "python3",
      "display_name": "Python 3"
    },
    "language_info": {
      "name": "python"
    }
  },
  "cells": [
    {
      "cell_type": "markdown",
      "metadata": {
        "id": "view-in-github",
        "colab_type": "text"
      },
      "source": [
        "<a href=\"https://colab.research.google.com/github/quintonmills/deploying-machine-learning-models/blob/master/introtopandas.ipynb\" target=\"_parent\"><img src=\"https://colab.research.google.com/assets/colab-badge.svg\" alt=\"Open In Colab\"/></a>"
      ]
    },
    {
      "cell_type": "code",
      "execution_count": null,
      "metadata": {
        "id": "szw7DRaFkOyv"
      },
      "outputs": [],
      "source": [
        "##pandas provides a interface to import csv files into data frames that make it extremely easy to manipulate in python"
      ]
    },
    {
      "cell_type": "code",
      "source": [
        "from google.colab import drive\n",
        "drive.mount('/content/drive')"
      ],
      "metadata": {
        "colab": {
          "base_uri": "https://localhost:8080/"
        },
        "id": "5EcGEUymlQ0e",
        "outputId": "29cea449-d05e-45c1-aace-b68674b5d21b"
      },
      "execution_count": null,
      "outputs": [
        {
          "output_type": "stream",
          "name": "stdout",
          "text": [
            "Mounted at /content/drive\n"
          ]
        }
      ]
    },
    {
      "cell_type": "code",
      "source": [
        "%cd /content/drive/My Drive/Colab Notebooks"
      ],
      "metadata": {
        "colab": {
          "base_uri": "https://localhost:8080/"
        },
        "id": "sBxfbUmZlixC",
        "outputId": "aae5e785-0eda-4642-dadf-128f14416b78"
      },
      "execution_count": null,
      "outputs": [
        {
          "output_type": "stream",
          "name": "stdout",
          "text": [
            "/content/drive/My Drive/Colab Notebooks\n"
          ]
        }
      ]
    },
    {
      "cell_type": "code",
      "source": [
        "import pandas as pd\n",
        "df = pd.read_csv(\"raw_data.csv\")"
      ],
      "metadata": {
        "id": "iFvf6HdJmJ2_"
      },
      "execution_count": null,
      "outputs": []
    },
    {
      "cell_type": "markdown",
      "source": [
        "Once the data is imported as a data frame we can easily perform data preprocessing on it. The Iris flower is a common dataset that contains data on the measurements(petal length and width)\n",
        "Data provided by University of California Irvene"
      ],
      "metadata": {
        "id": "L4SRZEK4m1IA"
      }
    },
    {
      "cell_type": "markdown",
      "source": [],
      "metadata": {
        "id": "ip7F5tzooziW"
      }
    },
    {
      "cell_type": "code",
      "source": [
        "URL = \\\n",
        "    'https://archive.ics.uci.edu/ml/machine-learning-databases/iris/iris.data'\n",
        "import pandas as pd\n",
        "df = pd.read_csv(URL, names =['sepal_length', 'sepal_width', 'petal_length', 'petal_width', 'class'])"
      ],
      "metadata": {
        "id": "tvnXh8sfn7sV"
      },
      "execution_count": null,
      "outputs": []
    },
    {
      "cell_type": "markdown",
      "source": [
        "now that the data is in a dataframe, we can easilt manipulate the data, first lets get a summart of the data\n",
        "\n"
      ],
      "metadata": {
        "id": "rZDwY_xko0kl"
      }
    },
    {
      "cell_type": "code",
      "source": [
        "print(df.info())\n"
      ],
      "metadata": {
        "colab": {
          "base_uri": "https://localhost:8080/"
        },
        "id": "GIWDMoXJpFgo",
        "outputId": "b2cc1c0f-f5e4-4d90-dcfb-77f9df9b02f6"
      },
      "execution_count": null,
      "outputs": [
        {
          "output_type": "stream",
          "name": "stdout",
          "text": [
            "<class 'pandas.core.frame.DataFrame'>\n",
            "RangeIndex: 150 entries, 0 to 149\n",
            "Data columns (total 5 columns):\n",
            " #   Column        Non-Null Count  Dtype  \n",
            "---  ------        --------------  -----  \n",
            " 0   sepal_length  150 non-null    float64\n",
            " 1   sepal_width   150 non-null    float64\n",
            " 2   petal_length  150 non-null    float64\n",
            " 3   petal_width   150 non-null    float64\n",
            " 4   class         150 non-null    object \n",
            "dtypes: float64(4), object(1)\n",
            "memory usage: 6.0+ KB\n",
            "None\n"
          ]
        }
      ]
    },
    {
      "cell_type": "markdown",
      "source": [
        "It looks like there eare 150 rows on the dtaset with four numeric columns with info on flowers. aks==lso one nonnumeric column containing information regarding the class(species of flower)"
      ],
      "metadata": {
        "id": "kg5_8WoIsxMI"
      }
    },
    {
      "cell_type": "markdown",
      "source": [
        "we can get a quick summary with describe function"
      ],
      "metadata": {
        "id": "GMSS1boYpO_l"
      }
    },
    {
      "cell_type": "code",
      "source": [
        "print(df.describe())"
      ],
      "metadata": {
        "colab": {
          "base_uri": "https://localhost:8080/"
        },
        "id": "U03U_zz-tx_o",
        "outputId": "8c13d6d1-5391-4d1a-d174-f7054844b3ec"
      },
      "execution_count": null,
      "outputs": [
        {
          "output_type": "stream",
          "name": "stdout",
          "text": [
            "       sepal_length  sepal_width  petal_length  petal_width\n",
            "count    150.000000   150.000000    150.000000   150.000000\n",
            "mean       5.843333     3.054000      3.758667     1.198667\n",
            "std        0.828066     0.433594      1.764420     0.763161\n",
            "min        4.300000     2.000000      1.000000     0.100000\n",
            "25%        5.100000     2.800000      1.600000     0.300000\n",
            "50%        5.800000     3.000000      4.350000     1.300000\n",
            "75%        6.400000     3.300000      5.100000     1.800000\n",
            "max        7.900000     4.400000      6.900000     2.500000\n"
          ]
        }
      ]
    },
    {
      "cell_type": "code",
      "source": [
        "print(df.head(10))"
      ],
      "metadata": {
        "colab": {
          "base_uri": "https://localhost:8080/"
        },
        "id": "3q-_jrFJt3H3",
        "outputId": "0c337122-2e1b-4efc-9be9-0ff01611763e"
      },
      "execution_count": null,
      "outputs": [
        {
          "output_type": "stream",
          "name": "stdout",
          "text": [
            "   sepal_length  sepal_width  petal_length  petal_width        class\n",
            "0           5.1          3.5           1.4          0.2  Iris-setosa\n",
            "1           4.9          3.0           1.4          0.2  Iris-setosa\n",
            "2           4.7          3.2           1.3          0.2  Iris-setosa\n",
            "3           4.6          3.1           1.5          0.2  Iris-setosa\n",
            "4           5.0          3.6           1.4          0.2  Iris-setosa\n",
            "5           5.4          3.9           1.7          0.4  Iris-setosa\n",
            "6           4.6          3.4           1.4          0.3  Iris-setosa\n",
            "7           5.0          3.4           1.5          0.2  Iris-setosa\n",
            "8           4.4          2.9           1.4          0.2  Iris-setosa\n",
            "9           4.9          3.1           1.5          0.1  Iris-setosa\n"
          ]
        }
      ]
    },
    {
      "cell_type": "markdown",
      "source": [
        "Pandas also allows us to perform data wrangling easily. We can filter and select rows with sepal_length greater than 5.0"
      ],
      "metadata": {
        "id": "RsbqNS5fuD7W"
      }
    },
    {
      "cell_type": "code",
      "source": [
        "print(df2)"
      ],
      "metadata": {
        "id": "j5V6hL77unSC"
      },
      "execution_count": null,
      "outputs": []
    },
    {
      "cell_type": "code",
      "source": [
        "df2 = df.loc[df['sepal_length'] > 5.0,]"
      ],
      "metadata": {
        "id": "8UaND_E3uXCc"
      },
      "execution_count": null,
      "outputs": []
    },
    {
      "cell_type": "code",
      "source": [
        "print(df2)"
      ],
      "metadata": {
        "colab": {
          "base_uri": "https://localhost:8080/"
        },
        "id": "V_AY74AyuF2v",
        "outputId": "f02db9f5-cb34-4b18-9bbb-d6eaac2bd59e"
      },
      "execution_count": null,
      "outputs": [
        {
          "output_type": "stream",
          "name": "stdout",
          "text": [
            "     sepal_length  sepal_width  petal_length  petal_width           class\n",
            "0             5.1          3.5           1.4          0.2     Iris-setosa\n",
            "5             5.4          3.9           1.7          0.4     Iris-setosa\n",
            "10            5.4          3.7           1.5          0.2     Iris-setosa\n",
            "14            5.8          4.0           1.2          0.2     Iris-setosa\n",
            "15            5.7          4.4           1.5          0.4     Iris-setosa\n",
            "..            ...          ...           ...          ...             ...\n",
            "145           6.7          3.0           5.2          2.3  Iris-virginica\n",
            "146           6.3          2.5           5.0          1.9  Iris-virginica\n",
            "147           6.5          3.0           5.2          2.0  Iris-virginica\n",
            "148           6.2          3.4           5.4          2.3  Iris-virginica\n",
            "149           5.9          3.0           5.1          1.8  Iris-virginica\n",
            "\n",
            "[118 rows x 5 columns]\n"
          ]
        }
      ]
    },
    {
      "cell_type": "markdown",
      "source": [
        "the loc command allows us to access group of rows and columns"
      ],
      "metadata": {
        "id": "i13uFQRwusqa"
      }
    },
    {
      "cell_type": "code",
      "source": [],
      "metadata": {
        "id": "WlgnvmnKu1MO"
      },
      "execution_count": null,
      "outputs": []
    }
  ]
}